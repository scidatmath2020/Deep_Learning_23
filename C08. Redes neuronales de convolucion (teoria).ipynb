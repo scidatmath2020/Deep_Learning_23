{
 "cells": [
  {
   "cell_type": "markdown",
   "metadata": {},
   "source": [
    "![imagenes](logo.png)"
   ]
  },
  {
   "cell_type": "markdown",
   "metadata": {},
   "source": [
    "# Redes neuronales de convolución (CNN)\n",
    "\n",
    "Una convolución es un tipo especial de operaciones entre dos matrices. Generalmente se denota por $\\ast$. Para entenderla, veamos un ejemplo:\n",
    "\n",
    "![imagenes](im32.png)\n",
    "\n",
    "![imagenes](im33.png)\n",
    "\n",
    "![imagenes](im34.png)\n",
    "\n",
    "![imagenes](im35.png)\n",
    "\n",
    "![imagenes](im36.png)\n",
    "\n"
   ]
  },
  {
   "cell_type": "markdown",
   "metadata": {},
   "source": [
    "En caso de preguntarte para qué sirven las convoluciones, una respuesta sencilla es **para detectar trozos en imágenes**. \n",
    "\n",
    "Sigamos este enlace: https://setosa.io/ev/image-kernels/"
   ]
  },
  {
   "cell_type": "markdown",
   "metadata": {},
   "source": [
    "## Ventajas de la convolución en visión artificial\n",
    "\n",
    "El usar capas de entrada densas no funciona bien en la visión artificial por dos motivos:\n",
    "\n",
    "* El tamaño de los pesos de una capa de entrada densa es enorme.\n",
    "\n",
    "* Las capas densas solo pueden capturar una imagen como una lista de números, sin poder reconocer la relación espacial entre dichos números.\n",
    "\n",
    "El uso de convoluciones permite trabajar con capas más ligeras para enfocarnos en aquellos aspectos de las imágenes que más información aportan para el objetivo de la red. \n",
    "\n",
    "![imagenes](im37.png)\n"
   ]
  },
  {
   "cell_type": "markdown",
   "metadata": {},
   "source": [
    "## ¿Cómo funcionan las convoluciones en deep learning?\n",
    "\n",
    "![imagenes](im38.png)\n",
    "\n",
    "### Capas de convolución en deep learning\n",
    "\n",
    "![imagenes](im39.png)\n",
    "\n",
    "### Problemas que se presentan\n",
    "\n",
    "Notemos que si ingresamos una imagen de $n\\times n$ pixeles y aplicamos un filtro de $m\\times m$ (en cuyo caso tenemos $1<m<n$), el output es una imagen de $(n-m+1)\\times(n-m+1)$. Pero $n-m+1<n$. Esto significa que reducimos el tamaño de la imagen en cada filtro que le pasamos. \n",
    "\n",
    "Resolver este problema se conoce como **padding**. Consiste en añadir ceros al rededor de la imagen para que las dimensiones de las salidas no se alteren.\n",
    "\n",
    "![imagenes](im40.png)\n",
    "\n",
    "![imagenes](im41.png)\n",
    "\n",
    "Otro problema que se presenta al utilizar filtros de convolución es la pérdida de información. Esto se debe a que la gran mayoría de los valores en cada pixel se vuelve 0.\n",
    "\n",
    "Resolver este problema se conoce como **pooling**. Generalmente, después de hacer una convolución se hace una agrupación del output mediante una capa de pooling. Pooling simplemente toma un número de pixeles juntos y los agrupa igualando todos sus valores. Usualmente este valor en común es el máximo de todos los que forman el grupo.\n",
    "\n",
    "![imagenes](im42.png)"
   ]
  },
  {
   "cell_type": "markdown",
   "metadata": {},
   "source": [
    "## Redes de convolución en deep learning\n",
    "\n",
    "Una práctica muy común de redes CNN es alternar capas de convolución, más una activación ReLU, más una capa de pooling.\n",
    "\n",
    "![imagenes](im43.png)"
   ]
  }
 ],
 "metadata": {
  "kernelspec": {
   "display_name": "Python 3 (ipykernel)",
   "language": "python",
   "name": "python3"
  },
  "language_info": {
   "codemirror_mode": {
    "name": "ipython",
    "version": 3
   },
   "file_extension": ".py",
   "mimetype": "text/x-python",
   "name": "python",
   "nbconvert_exporter": "python",
   "pygments_lexer": "ipython3",
   "version": "3.11.4"
  }
 },
 "nbformat": 4,
 "nbformat_minor": 4
}
