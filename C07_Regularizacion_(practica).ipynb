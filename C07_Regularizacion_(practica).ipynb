{
 "cells": [
  {
   "cell_type": "markdown",
   "metadata": {
    "id": "CDfnflQeXokh"
   },
   "source": [
    "![imagenes](logo.png)"
   ]
  },
  {
   "cell_type": "markdown",
   "metadata": {
    "id": "P4cyDtooXokk"
   },
   "source": [
    "### Regularización en Keras"
   ]
  },
  {
   "cell_type": "code",
   "execution_count": null,
   "metadata": {
    "id": "DfBJODzDXokk"
   },
   "outputs": [],
   "source": [
    "import numpy as np\n",
    "%matplotlib inline\n",
    "import matplotlib.pyplot as plt\n",
    "plt.rcParams[\"figure.figsize\"] = (5, 5)"
   ]
  },
  {
   "cell_type": "markdown",
   "metadata": {
    "id": "PTf0csAPXokl"
   },
   "source": [
    "# Cargamos los datos"
   ]
  },
  {
   "cell_type": "markdown",
   "metadata": {
    "id": "wXdJ1qdiXokm"
   },
   "source": [
    "En deep learning no se suele hacer validación cruzada (a menos que el tamaño del dataset y el tiempo de entrenamiento lo permita). En lugar de eso se hacen simples separaciónes entre datos de entrenamiento y de validación."
   ]
  },
  {
   "cell_type": "code",
   "execution_count": null,
   "metadata": {
    "colab": {
     "base_uri": "https://localhost:8080/"
    },
    "id": "810H-0lGXokm",
    "outputId": "62e25c8e-4bbe-4e1a-a421-d3af8f4293ed"
   },
   "outputs": [],
   "source": [
    "from keras.datasets import mnist\n",
    "\n",
    "(x_train, y_train), (x_test, y_test) = mnist.load_data()"
   ]
  },
  {
   "cell_type": "code",
   "execution_count": null,
   "metadata": {
    "colab": {
     "base_uri": "https://localhost:8080/"
    },
    "id": "toJUYkDnXokm",
    "outputId": "64986198-54b5-4c04-bfc3-e403e8aa4a60"
   },
   "outputs": [],
   "source": [
    "x_train.shape"
   ]
  },
  {
   "cell_type": "code",
   "execution_count": null,
   "metadata": {
    "colab": {
     "base_uri": "https://localhost:8080/"
    },
    "id": "TeU-1iClXokm",
    "outputId": "d369996d-65cd-4740-bab8-a218bed84c62"
   },
   "outputs": [],
   "source": [
    "x_train[0].shape"
   ]
  },
  {
   "cell_type": "code",
   "execution_count": null,
   "metadata": {
    "colab": {
     "base_uri": "https://localhost:8080/"
    },
    "id": "FdzFZn2PXokn",
    "outputId": "127d8920-e363-408a-d5c9-f4d4aa722b3d",
    "scrolled": true
   },
   "outputs": [],
   "source": [
    "x_train[0]"
   ]
  },
  {
   "cell_type": "code",
   "execution_count": null,
   "metadata": {
    "colab": {
     "base_uri": "https://localhost:8080/",
     "height": 654,
     "referenced_widgets": [
      "e002a1a532f5486da39954c196fe0c68",
      "227a3be9f21446c0978aa367a8a80c98",
      "45197c4e78c140519cda875b8326bf0d",
      "ec072bda39c24b7faf372329f6211673",
      "18384713b96b424a9b1fc86eee134394",
      "e1dcb232f1a2426ba7126c5e38bc4a41",
      "972d44b96fb94f8aa9cdd6e255bdf4a3"
     ]
    },
    "id": "vb-1YQYkXokn",
    "outputId": "de377426-4922-40bc-c1c7-bd953c72c3dc"
   },
   "outputs": [],
   "source": [
    "def dibujar_numero(i):\n",
    "    plt.imshow(x_train[i], cmap=\"gray\")\n",
    "    plt.title(\"Número {}\".format(y_train[i]))\n",
    "    \n",
    "    \n",
    "dibujar_numero(20)    "
   ]
  },
  {
   "cell_type": "code",
   "execution_count": null,
   "metadata": {
    "id": "fpxQhYzuXoko"
   },
   "outputs": [],
   "source": [
    "import os\n",
    "\n",
    "os.environ[\"KERAS_BACKEND\"] = \"tensorflow\" #tensorflow"
   ]
  },
  {
   "cell_type": "code",
   "execution_count": null,
   "metadata": {
    "id": "v9YHA2SXXoko"
   },
   "outputs": [],
   "source": [
    "from keras.models import Sequential\n",
    "from keras.layers import Dense, Dropout, Flatten"
   ]
  },
  {
   "cell_type": "code",
   "execution_count": null,
   "metadata": {
    "colab": {
     "base_uri": "https://localhost:8080/"
    },
    "id": "5dkg0r6yXoko",
    "outputId": "6f9a7fa8-2d81-4b1f-cfda-2cf973ff0e0d"
   },
   "outputs": [],
   "source": [
    "np.unique(y_train)"
   ]
  },
  {
   "cell_type": "code",
   "execution_count": null,
   "metadata": {
    "colab": {
     "base_uri": "https://localhost:8080/"
    },
    "id": "QLeYqQ4tXoko",
    "outputId": "91350ff7-4d0f-431d-deb4-b3c28b459be4"
   },
   "outputs": [],
   "source": [
    "x_train[0]"
   ]
  },
  {
   "cell_type": "code",
   "execution_count": null,
   "metadata": {
    "colab": {
     "base_uri": "https://localhost:8080/"
    },
    "id": "1L0FX13tXokp",
    "outputId": "002f61e5-f891-4ea7-f1cb-dc026ba441c1"
   },
   "outputs": [],
   "source": [
    "x_train[0].shape"
   ]
  },
  {
   "cell_type": "code",
   "execution_count": null,
   "metadata": {
    "id": "IjU5CTs8Xokp"
   },
   "outputs": [],
   "source": [
    "x_train_plano = x_train.reshape(x_train.shape[0],28*28)\n",
    "x_test_plano = x_test.reshape(x_test.shape[0],28*28)"
   ]
  },
  {
   "cell_type": "code",
   "execution_count": null,
   "metadata": {
    "colab": {
     "base_uri": "https://localhost:8080/"
    },
    "id": "Dlik5RNCXokp",
    "outputId": "78fadfb7-1272-4a80-fcad-93aa15f5b70e"
   },
   "outputs": [],
   "source": [
    "x_train_plano[0].shape"
   ]
  },
  {
   "cell_type": "code",
   "execution_count": null,
   "metadata": {
    "colab": {
     "base_uri": "https://localhost:8080/"
    },
    "id": "hLqizbgTXokp",
    "outputId": "ba7e09f0-a199-43cd-f605-0534baadcb89",
    "scrolled": true
   },
   "outputs": [],
   "source": [
    "x_train_plano[0]"
   ]
  },
  {
   "cell_type": "code",
   "execution_count": null,
   "metadata": {
    "id": "RK1QZSY0Xokp"
   },
   "outputs": [],
   "source": [
    "from keras.utils import to_categorical"
   ]
  },
  {
   "cell_type": "code",
   "execution_count": null,
   "metadata": {
    "colab": {
     "base_uri": "https://localhost:8080/"
    },
    "id": "rHp3KrhqXokp",
    "outputId": "a47de367-8ef0-4247-f6a1-58ed98e615d5"
   },
   "outputs": [],
   "source": [
    "y_train[:10]"
   ]
  },
  {
   "cell_type": "code",
   "execution_count": null,
   "metadata": {
    "id": "iQPbhv5aXokq"
   },
   "outputs": [],
   "source": [
    "y_train_one_hot = to_categorical(y_train)\n",
    "y_test_one_hot = to_categorical(y_test)"
   ]
  },
  {
   "cell_type": "code",
   "execution_count": null,
   "metadata": {
    "colab": {
     "base_uri": "https://localhost:8080/"
    },
    "id": "WFN5ngzxXokq",
    "outputId": "3e264886-1f38-48db-b744-5bd51d5b2c13"
   },
   "outputs": [],
   "source": [
    "y_train_one_hot[:10]"
   ]
  },
  {
   "cell_type": "code",
   "execution_count": null,
   "metadata": {
    "colab": {
     "base_uri": "https://localhost:8080/"
    },
    "id": "Vf_uaDPBXokq",
    "outputId": "945a8389-0981-4c5e-9821-ff5c2ab5ae29"
   },
   "outputs": [],
   "source": [
    "modelo = Sequential()\n",
    "modelo.add(Dense(50, activation=\"relu\", input_shape=(784,)))\n",
    "modelo.add(Dense(250, activation=\"relu\"))\n",
    "modelo.add(Dense(np.unique(y_train).shape[0], activation=\"softmax\"))\n",
    "\n",
    "modelo.compile(optimizer=\"sgd\", loss=\"categorical_crossentropy\",\n",
    "               metrics=[\"accuracy\"])\n",
    "\n",
    "modelo.summary()"
   ]
  },
  {
   "cell_type": "code",
   "execution_count": null,
   "metadata": {
    "id": "iTTcKmnnXokq",
    "scrolled": true
   },
   "outputs": [],
   "source": [
    "modelo.fit(x_train_plano, y_train_one_hot, epochs=50, batch_size=1000, verbose=0);"
   ]
  },
  {
   "cell_type": "markdown",
   "metadata": {
    "id": "InhKUCa1Xokq"
   },
   "source": [
    "Vamos a ver ahora como se compara el funcionamiento del modelo respecto a los datos de entrenamiento y los de test."
   ]
  },
  {
   "cell_type": "code",
   "execution_count": null,
   "metadata": {
    "id": "UP8NuHefXokq"
   },
   "outputs": [],
   "source": [
    "RESULTADOS = {}"
   ]
  },
  {
   "cell_type": "code",
   "execution_count": null,
   "metadata": {
    "colab": {
     "base_uri": "https://localhost:8080/"
    },
    "id": "p-CE_KrMXokr",
    "outputId": "9e338134-43e4-4d01-f896-928dbe75ef13"
   },
   "outputs": [],
   "source": [
    "modelo.metrics_names"
   ]
  },
  {
   "cell_type": "code",
   "execution_count": null,
   "metadata": {
    "colab": {
     "base_uri": "https://localhost:8080/"
    },
    "id": "u3C7dijFXokr",
    "outputId": "3ab5e81d-3d73-4dc4-99b9-c149af48945f"
   },
   "outputs": [],
   "source": [
    "evaluacion_train = modelo.evaluate(x_train_plano, y_train_one_hot)\n",
    "evaluacion_train"
   ]
  },
  {
   "cell_type": "code",
   "execution_count": null,
   "metadata": {
    "colab": {
     "base_uri": "https://localhost:8080/"
    },
    "id": "zeROcMnrXokr",
    "outputId": "cc1f6011-1e16-4cb6-9be0-58692d30f7b8"
   },
   "outputs": [],
   "source": [
    "evaluacion_test = modelo.evaluate(x_test_plano, y_test_one_hot)\n",
    "evaluacion_test"
   ]
  },
  {
   "cell_type": "code",
   "execution_count": null,
   "metadata": {
    "id": "uFcHuEuOXokr"
   },
   "outputs": [],
   "source": [
    "RESULTADOS[\"sin_regularizacion\"] = [evaluacion_train[1], evaluacion_test[1]]"
   ]
  },
  {
   "cell_type": "markdown",
   "metadata": {
    "id": "XSaQypbtXokr"
   },
   "source": [
    "### Regularización l1, o l2"
   ]
  },
  {
   "cell_type": "markdown",
   "metadata": {
    "id": "ihpKSxD9Xokr"
   },
   "source": [
    "Keras permite regularizar los pesos, los sesgos (bias) y las activaciones de  forma independiente, pasando el parámetro `kernel_regularizer`, `bias_regularizer` y `activity_regularizer` respectivamente.\n",
    "\n",
    "Keras tiene los penalizadores `l1`, `l2` y `l1_l2` (elasticnet)"
   ]
  },
  {
   "cell_type": "code",
   "execution_count": null,
   "metadata": {
    "colab": {
     "base_uri": "https://localhost:8080/"
    },
    "id": "LZ1AoMeZXoks",
    "outputId": "e1101eaf-f2fb-4f15-c378-90e0d2086bf9"
   },
   "outputs": [],
   "source": [
    "from keras import regularizers\n",
    "\n",
    "modelo_l2 = Sequential()\n",
    "modelo_l2.add(Dense(50, activation=\"relu\", input_shape=(784,)))\n",
    "modelo_l2.add(Dense(250, activation=\"relu\", kernel_regularizer=regularizers.l2(0.01)))\n",
    "modelo_l2.add(Dense(np.unique(y_train).shape[0], activation=\"softmax\"))\n",
    "\n",
    "modelo_l2.compile(optimizer=\"sgd\", loss=\"categorical_crossentropy\",\n",
    "               metrics=[\"accuracy\"])\n",
    "\n",
    "modelo_l2.summary()"
   ]
  },
  {
   "cell_type": "code",
   "execution_count": null,
   "metadata": {
    "id": "0u-OuJToXoks"
   },
   "outputs": [],
   "source": [
    "modelo_l2.fit(x_train_plano, y_train_one_hot, verbose=0, epochs=50, batch_size=1000);"
   ]
  },
  {
   "cell_type": "code",
   "execution_count": null,
   "metadata": {
    "colab": {
     "base_uri": "https://localhost:8080/"
    },
    "id": "EsB7mw5sXoks",
    "outputId": "3a9bf2b5-ba0f-40c1-a204-61175d9b7282"
   },
   "outputs": [],
   "source": [
    "acc_train = modelo_l2.evaluate(x_train_plano, y_train_one_hot)[1]\n",
    "acc_train"
   ]
  },
  {
   "cell_type": "code",
   "execution_count": null,
   "metadata": {
    "colab": {
     "base_uri": "https://localhost:8080/"
    },
    "id": "CpTIHvu5Xoks",
    "outputId": "217f7692-0075-4971-b0b6-60ad02c59997"
   },
   "outputs": [],
   "source": [
    "acc_test = modelo.evaluate(x_test_plano, y_test_one_hot)[1]\n",
    "acc_test"
   ]
  },
  {
   "cell_type": "code",
   "execution_count": null,
   "metadata": {
    "id": "8paTikxJXoks"
   },
   "outputs": [],
   "source": [
    "RESULTADOS[\"regularizacion_l2\"] = [acc_train, acc_test]"
   ]
  },
  {
   "cell_type": "markdown",
   "metadata": {
    "id": "oNObhokCXokt"
   },
   "source": [
    "Hacemos lo mismo pero con regularización l1"
   ]
  },
  {
   "cell_type": "code",
   "execution_count": null,
   "metadata": {
    "colab": {
     "base_uri": "https://localhost:8080/"
    },
    "id": "3D7frzWfXokx",
    "outputId": "4aa455fe-4c19-4b9c-a8af-5aedb60323ae"
   },
   "outputs": [],
   "source": [
    "modelo_l1 = Sequential()\n",
    "modelo_l1.add(Dense(50, activation=\"relu\", input_shape=(784,)))\n",
    "modelo_l1.add(Dense(250, activation=\"relu\", kernel_regularizer=regularizers.l1(0.01)))\n",
    "modelo_l1.add(Dense(np.unique(y_train).shape[0], activation=\"softmax\"))\n",
    "\n",
    "modelo_l1.compile(optimizer=\"sgd\", loss=\"categorical_crossentropy\",\n",
    "               metrics=[\"accuracy\"])\n",
    "\n",
    "modelo_l1.fit(x_train_plano, y_train_one_hot, verbose=0, epochs=50, batch_size=1000)\n",
    "\n",
    "acc_train = modelo_l1.evaluate(x_train_plano, y_train_one_hot)[1]\n",
    "acc_test = modelo_l1.evaluate(x_test_plano, y_test_one_hot)[1]\n",
    "\n",
    "RESULTADOS[\"regularizacion_l1\"] = [acc_train, acc_test]"
   ]
  },
  {
   "cell_type": "code",
   "execution_count": null,
   "metadata": {
    "colab": {
     "base_uri": "https://localhost:8080/"
    },
    "id": "G7F9d_1UXokx",
    "outputId": "a4c04366-1b3d-4cb9-bb2a-a6c8d3836c33"
   },
   "outputs": [],
   "source": [
    "print(acc_train, acc_test)"
   ]
  },
  {
   "cell_type": "code",
   "execution_count": null,
   "metadata": {
    "colab": {
     "base_uri": "https://localhost:8080/"
    },
    "id": "qr2CikADZy-3",
    "outputId": "2009662a-433b-4948-e132-462296b451de"
   },
   "outputs": [],
   "source": [
    "RESULTADOS"
   ]
  },
  {
   "cell_type": "markdown",
   "metadata": {
    "id": "n-bRRJMNXoky"
   },
   "source": [
    "### Dropout"
   ]
  },
  {
   "cell_type": "markdown",
   "metadata": {
    "id": "4SCAHUyWXoky"
   },
   "source": [
    "Ahora vamos a añadir Dropout a la misma red. Dropout simplemente ignora un porcentaje `p` de las unidades (neuronas) en cada iteración del entrenamiento (forward prop y backprop)"
   ]
  },
  {
   "cell_type": "code",
   "execution_count": null,
   "metadata": {
    "id": "KmBXcUhyXoky"
   },
   "outputs": [],
   "source": [
    "from keras.layers import Dropout"
   ]
  },
  {
   "cell_type": "code",
   "execution_count": null,
   "metadata": {
    "colab": {
     "base_uri": "https://localhost:8080/"
    },
    "id": "9uAcioiuXoky",
    "outputId": "04b331c3-bf21-41b7-cc6a-2d52c6bdeabe"
   },
   "outputs": [],
   "source": [
    "modelo_dropout = Sequential()\n",
    "modelo_dropout.add(Dense(50, activation=\"relu\", input_shape=(784,)))\n",
    "modelo_dropout.add(Dense(250, activation=\"relu\"))\n",
    "modelo_dropout.add(Dropout(0.2))\n",
    "modelo_dropout.add(Dense(np.unique(y_train).shape[0], activation=\"softmax\"))\n",
    "\n",
    "modelo_dropout.compile(optimizer=\"sgd\", loss=\"categorical_crossentropy\",\n",
    "               metrics=[\"accuracy\"])\n",
    "\n",
    "modelo_dropout.summary()"
   ]
  },
  {
   "cell_type": "markdown",
   "metadata": {
    "id": "uthqITgbXoky"
   },
   "source": [
    "Vemos que el número de parámetros a entrenar es el mismo, Dropout no añade pesos a la red"
   ]
  },
  {
   "cell_type": "code",
   "execution_count": null,
   "metadata": {
    "id": "jPjYbhJ5Xoky",
    "scrolled": true
   },
   "outputs": [],
   "source": [
    "modelo_dropout.fit(x_train_plano, y_train_one_hot, verbose=0, epochs=50, batch_size=1000);"
   ]
  },
  {
   "cell_type": "code",
   "execution_count": null,
   "metadata": {
    "colab": {
     "base_uri": "https://localhost:8080/"
    },
    "id": "b9IsJDD9Xokz",
    "outputId": "25d3f196-afc1-4f34-c4a0-1fdbc9056bb7"
   },
   "outputs": [],
   "source": [
    "acc_train = modelo_dropout.evaluate(x_train_plano, y_train_one_hot)[1]\n",
    "acc_test = modelo_dropout.evaluate(x_test_plano, y_test_one_hot)[1]"
   ]
  },
  {
   "cell_type": "code",
   "execution_count": null,
   "metadata": {
    "colab": {
     "base_uri": "https://localhost:8080/"
    },
    "id": "FkqU_eoQXokz",
    "outputId": "901d100f-ea69-404b-f515-4401785553a1"
   },
   "outputs": [],
   "source": [
    "print(acc_train, acc_test)"
   ]
  },
  {
   "cell_type": "code",
   "execution_count": null,
   "metadata": {
    "id": "LCUflDKCXokz"
   },
   "outputs": [],
   "source": [
    "RESULTADOS[\"regularizacion_dropout\"] = [acc_train, acc_test]"
   ]
  },
  {
   "cell_type": "markdown",
   "metadata": {
    "id": "yTnyicaLXokz"
   },
   "source": [
    "### Normalización en bloques (batch normalization)"
   ]
  },
  {
   "cell_type": "code",
   "execution_count": null,
   "metadata": {
    "id": "RPnSii5OXokz"
   },
   "outputs": [],
   "source": [
    "from keras.layers import BatchNormalization"
   ]
  },
  {
   "cell_type": "code",
   "execution_count": null,
   "metadata": {
    "colab": {
     "base_uri": "https://localhost:8080/"
    },
    "id": "JX5iA8p2Xokz",
    "outputId": "63bc0407-7b0f-436f-eb90-d91a8d6039e6"
   },
   "outputs": [],
   "source": [
    "modelo_bnorm = Sequential()\n",
    "modelo_bnorm.add(Dense(50, activation=\"relu\", input_shape=(784,)))\n",
    "modelo_bnorm.add(Dense(250, activation=\"relu\"))\n",
    "modelo_bnorm.add(BatchNormalization())\n",
    "modelo_bnorm.add(Dense(np.unique(y_train).shape[0], activation=\"softmax\"))\n",
    "\n",
    "modelo_bnorm.compile(optimizer=\"sgd\", loss=\"categorical_crossentropy\",\n",
    "               metrics=[\"accuracy\"])\n",
    "\n",
    "modelo_bnorm.summary()"
   ]
  },
  {
   "cell_type": "code",
   "execution_count": null,
   "metadata": {
    "colab": {
     "base_uri": "https://localhost:8080/"
    },
    "id": "n7Stv2ArXok0",
    "outputId": "16e0c06c-1c7c-498e-ed24-2a26d3917d79"
   },
   "outputs": [],
   "source": [
    "modelo_bnorm.fit(x_train_plano, y_train_one_hot, verbose=0, epochs=50, batch_size=1000)\n",
    "acc_train = modelo_bnorm.evaluate(x_train_plano, y_train_one_hot)[1]\n",
    "acc_test = modelo_bnorm.evaluate(x_test_plano, y_test_one_hot)[1]\n",
    "\n",
    "RESULTADOS[\"batch_normalization\"] = [acc_train, acc_test]\n",
    "print(acc_train, acc_test)"
   ]
  },
  {
   "cell_type": "markdown",
   "metadata": {
    "id": "IFfztDV-Xok0"
   },
   "source": [
    "### Batch Normalization + Dropout\n",
    "\n",
    "Una práctica común es poner normalizacion batch y dropout juntos en una capa"
   ]
  },
  {
   "cell_type": "code",
   "execution_count": null,
   "metadata": {
    "colab": {
     "base_uri": "https://localhost:8080/"
    },
    "id": "4aJqM2-gXok0",
    "outputId": "5f8527cd-0ffb-4079-d87b-bdf5cb52cdb0"
   },
   "outputs": [],
   "source": [
    "modelo_bnorm_drop = Sequential()\n",
    "modelo_bnorm_drop.add(Dense(50, activation=\"relu\", input_shape=(784,)))\n",
    "modelo_bnorm_drop.add(Dense(250, activation=\"relu\"))\n",
    "modelo_bnorm_drop.add(BatchNormalization())\n",
    "modelo_bnorm_drop.add(Dropout(0.2))\n",
    "modelo_bnorm_drop.add(Dense(np.unique(y_train).shape[0], activation=\"softmax\"))\n",
    "\n",
    "modelo_bnorm_drop.compile(optimizer=\"sgd\", loss=\"categorical_crossentropy\",\n",
    "               metrics=[\"accuracy\"])\n",
    "\n",
    "modelo_bnorm_drop.fit(x_train_plano, y_train_one_hot, verbose=0, epochs=50, batch_size=1000)\n",
    "acc_train = modelo_bnorm_drop.evaluate(x_train_plano, y_train_one_hot)[1]\n",
    "acc_test = modelo_bnorm_drop.evaluate(x_test_plano, y_test_one_hot)[1]\n",
    "\n",
    "RESULTADOS[\"batch_normalization + dropout\"] = [acc_train, acc_test]\n",
    "print(acc_train, acc_test)"
   ]
  },
  {
   "cell_type": "markdown",
   "metadata": {
    "id": "oaf92l97Xok0"
   },
   "source": [
    "Ahora metemos los resultados en un dataframe para inspeccionarlos"
   ]
  },
  {
   "cell_type": "code",
   "execution_count": null,
   "metadata": {
    "id": "FHlLopGRXok0"
   },
   "outputs": [],
   "source": [
    "import pandas as pd\n",
    "\n",
    "resultados = pd.DataFrame(RESULTADOS).T\n",
    "resultados.columns = [\"acc_train\", \"acc_test\"]\n",
    "resultados[\"pct_diff\"] = 1 - (resultados.acc_test / resultados.acc_train)"
   ]
  }
 ],
 "metadata": {
  "colab": {
   "provenance": []
  },
  "kernelspec": {
   "display_name": "Python 3 (ipykernel)",
   "language": "python",
   "name": "python3"
  },
  "language_info": {
   "codemirror_mode": {
    "name": "ipython",
    "version": 3
   },
   "file_extension": ".py",
   "mimetype": "text/x-python",
   "name": "python",
   "nbconvert_exporter": "python",
   "pygments_lexer": "ipython3",
   "version": "3.11.4"
  },
  "widgets": {
   "application/vnd.jupyter.widget-state+json": {
    "18384713b96b424a9b1fc86eee134394": {
     "model_module": "@jupyter-widgets/base",
     "model_module_version": "1.2.0",
     "model_name": "LayoutModel",
     "state": {
      "_model_module": "@jupyter-widgets/base",
      "_model_module_version": "1.2.0",
      "_model_name": "LayoutModel",
      "_view_count": null,
      "_view_module": "@jupyter-widgets/base",
      "_view_module_version": "1.2.0",
      "_view_name": "LayoutView",
      "align_content": null,
      "align_items": null,
      "align_self": null,
      "border": null,
      "bottom": null,
      "display": null,
      "flex": null,
      "flex_flow": null,
      "grid_area": null,
      "grid_auto_columns": null,
      "grid_auto_flow": null,
      "grid_auto_rows": null,
      "grid_column": null,
      "grid_gap": null,
      "grid_row": null,
      "grid_template_areas": null,
      "grid_template_columns": null,
      "grid_template_rows": null,
      "height": null,
      "justify_content": null,
      "justify_items": null,
      "left": null,
      "margin": null,
      "max_height": null,
      "max_width": null,
      "min_height": null,
      "min_width": null,
      "object_fit": null,
      "object_position": null,
      "order": null,
      "overflow": null,
      "overflow_x": null,
      "overflow_y": null,
      "padding": null,
      "right": null,
      "top": null,
      "visibility": null,
      "width": null
     }
    },
    "227a3be9f21446c0978aa367a8a80c98": {
     "model_module": "@jupyter-widgets/controls",
     "model_module_version": "1.5.0",
     "model_name": "IntSliderModel",
     "state": {
      "_dom_classes": [],
      "_model_module": "@jupyter-widgets/controls",
      "_model_module_version": "1.5.0",
      "_model_name": "IntSliderModel",
      "_view_count": null,
      "_view_module": "@jupyter-widgets/controls",
      "_view_module_version": "1.5.0",
      "_view_name": "IntSliderView",
      "continuous_update": true,
      "description": "i",
      "description_tooltip": null,
      "disabled": false,
      "layout": "IPY_MODEL_18384713b96b424a9b1fc86eee134394",
      "max": 50,
      "min": 0,
      "orientation": "horizontal",
      "readout": true,
      "readout_format": "d",
      "step": 1,
      "style": "IPY_MODEL_e1dcb232f1a2426ba7126c5e38bc4a41",
      "value": 1
     }
    },
    "45197c4e78c140519cda875b8326bf0d": {
     "model_module": "@jupyter-widgets/output",
     "model_module_version": "1.0.0",
     "model_name": "OutputModel",
     "state": {
      "_dom_classes": [],
      "_model_module": "@jupyter-widgets/output",
      "_model_module_version": "1.0.0",
      "_model_name": "OutputModel",
      "_view_count": null,
      "_view_module": "@jupyter-widgets/output",
      "_view_module_version": "1.0.0",
      "_view_name": "OutputView",
      "layout": "IPY_MODEL_972d44b96fb94f8aa9cdd6e255bdf4a3",
      "msg_id": "",
      "outputs": []
     }
    },
    "972d44b96fb94f8aa9cdd6e255bdf4a3": {
     "model_module": "@jupyter-widgets/base",
     "model_module_version": "1.2.0",
     "model_name": "LayoutModel",
     "state": {
      "_model_module": "@jupyter-widgets/base",
      "_model_module_version": "1.2.0",
      "_model_name": "LayoutModel",
      "_view_count": null,
      "_view_module": "@jupyter-widgets/base",
      "_view_module_version": "1.2.0",
      "_view_name": "LayoutView",
      "align_content": null,
      "align_items": null,
      "align_self": null,
      "border": null,
      "bottom": null,
      "display": null,
      "flex": null,
      "flex_flow": null,
      "grid_area": null,
      "grid_auto_columns": null,
      "grid_auto_flow": null,
      "grid_auto_rows": null,
      "grid_column": null,
      "grid_gap": null,
      "grid_row": null,
      "grid_template_areas": null,
      "grid_template_columns": null,
      "grid_template_rows": null,
      "height": null,
      "justify_content": null,
      "justify_items": null,
      "left": null,
      "margin": null,
      "max_height": null,
      "max_width": null,
      "min_height": null,
      "min_width": null,
      "object_fit": null,
      "object_position": null,
      "order": null,
      "overflow": null,
      "overflow_x": null,
      "overflow_y": null,
      "padding": null,
      "right": null,
      "top": null,
      "visibility": null,
      "width": null
     }
    },
    "e002a1a532f5486da39954c196fe0c68": {
     "model_module": "@jupyter-widgets/controls",
     "model_module_version": "1.5.0",
     "model_name": "VBoxModel",
     "state": {
      "_dom_classes": [
       "widget-interact"
      ],
      "_model_module": "@jupyter-widgets/controls",
      "_model_module_version": "1.5.0",
      "_model_name": "VBoxModel",
      "_view_count": null,
      "_view_module": "@jupyter-widgets/controls",
      "_view_module_version": "1.5.0",
      "_view_name": "VBoxView",
      "box_style": "",
      "children": [
       "IPY_MODEL_227a3be9f21446c0978aa367a8a80c98",
       "IPY_MODEL_45197c4e78c140519cda875b8326bf0d"
      ],
      "layout": "IPY_MODEL_ec072bda39c24b7faf372329f6211673"
     }
    },
    "e1dcb232f1a2426ba7126c5e38bc4a41": {
     "model_module": "@jupyter-widgets/controls",
     "model_module_version": "1.5.0",
     "model_name": "SliderStyleModel",
     "state": {
      "_model_module": "@jupyter-widgets/controls",
      "_model_module_version": "1.5.0",
      "_model_name": "SliderStyleModel",
      "_view_count": null,
      "_view_module": "@jupyter-widgets/base",
      "_view_module_version": "1.2.0",
      "_view_name": "StyleView",
      "description_width": "",
      "handle_color": null
     }
    },
    "ec072bda39c24b7faf372329f6211673": {
     "model_module": "@jupyter-widgets/base",
     "model_module_version": "1.2.0",
     "model_name": "LayoutModel",
     "state": {
      "_model_module": "@jupyter-widgets/base",
      "_model_module_version": "1.2.0",
      "_model_name": "LayoutModel",
      "_view_count": null,
      "_view_module": "@jupyter-widgets/base",
      "_view_module_version": "1.2.0",
      "_view_name": "LayoutView",
      "align_content": null,
      "align_items": null,
      "align_self": null,
      "border": null,
      "bottom": null,
      "display": null,
      "flex": null,
      "flex_flow": null,
      "grid_area": null,
      "grid_auto_columns": null,
      "grid_auto_flow": null,
      "grid_auto_rows": null,
      "grid_column": null,
      "grid_gap": null,
      "grid_row": null,
      "grid_template_areas": null,
      "grid_template_columns": null,
      "grid_template_rows": null,
      "height": null,
      "justify_content": null,
      "justify_items": null,
      "left": null,
      "margin": null,
      "max_height": null,
      "max_width": null,
      "min_height": null,
      "min_width": null,
      "object_fit": null,
      "object_position": null,
      "order": null,
      "overflow": null,
      "overflow_x": null,
      "overflow_y": null,
      "padding": null,
      "right": null,
      "top": null,
      "visibility": null,
      "width": null
     }
    }
   }
  }
 },
 "nbformat": 4,
 "nbformat_minor": 1
}
