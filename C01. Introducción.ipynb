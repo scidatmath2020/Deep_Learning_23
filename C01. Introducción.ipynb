{
 "cells": [
  {
   "cell_type": "markdown",
   "metadata": {},
   "source": [
    "![imagenes](logo.png)"
   ]
  },
  {
   "cell_type": "markdown",
   "metadata": {},
   "source": [
    "# ¿Qué es el Deep learning?\n",
    "\n",
    "Inicialmente, en los años 50 del siglo pasado, se tuvieron los inicios de la Inteligencia Artificial. El objetivo de esta temprana IA era crear máquinas y sistemas automáticos que se comportaran como un ser humano. \n",
    "\n",
    "Mas tarde, a eso de los 80 comienza el Machine Learning, que es un subapartado de la Inteligencia Artificial enfocado en usar datos históricos y estadísticos para que la máquina aprenda a tomar decisiones y hacer predicciones. \n",
    "\n",
    "Finalmente, cercano al 2010 hay un despegue del Deep Learning enfocado fuertemente a las redes neuronales.\n",
    "\n"
   ]
  },
  {
   "cell_type": "markdown",
   "metadata": {},
   "source": [
    "## ¿Cómo funciona el Deep learning?\n",
    "\n",
    "Se basa en el funcionamiento de las neurona. Así, las redes neuronales *artificiales* son representaciones matemáticas de las redes neuronales *biológicas*.\n",
    "![imagenes](im02.png)"
   ]
  },
  {
   "cell_type": "markdown",
   "metadata": {},
   "source": [
    "A su vez, estas redes se pueden volver muy complejas añadiendo *capaz*, lo que da a lugar a lo que se conoce como una *red profunda*, y de ahí viene el nombre de Deep learnging\n",
    "\n",
    "![imagenes](im03.png)"
   ]
  },
  {
   "cell_type": "markdown",
   "metadata": {},
   "source": [
    "El hecho de tener varias capas permite a las redes neuronales generalizar muy bien. Al contrario que las técnicas clásicas de Machine Learning que pueden presentar problemas de sobrememorización en el entrenamiento, las redes neuronales toman las decisiones basadas no solo en los datos como tal, sino también en la misma estructura."
   ]
  },
  {
   "cell_type": "markdown",
   "metadata": {},
   "source": [
    "## Aplicaciones del Deep Learning\n",
    "\n",
    "La mayor aplicación del Deep Learning es el reconocimiento de imágenes.\n",
    "\n",
    "![imagenes](im04.png)\n",
    "\n",
    "En áreas de la Salud, se ha demostrado que también presenta una gran efectividad para el reconocimento de cánceres malignos a través de lunares o marcas en la piel.\n",
    "\n",
    "![imagenes](im05.png)\n",
    "\n",
    "Por otra parte, en Tecnologías ha permitido el diseño de automóviles autónomos, ordenadores que son capaces de jugar videojuegos y en general la Inteligencia Artificial.\n",
    "\n",
    "![imagenes](im06.png)\n",
    "\n",
    "Incluso encuentra aplicaciones en el Arte. \n",
    "\n",
    "![imagenes](im07.png)"
   ]
  }
 ],
 "metadata": {
  "kernelspec": {
   "display_name": "Python 3 (ipykernel)",
   "language": "python",
   "name": "python3"
  },
  "language_info": {
   "codemirror_mode": {
    "name": "ipython",
    "version": 3
   },
   "file_extension": ".py",
   "mimetype": "text/x-python",
   "name": "python",
   "nbconvert_exporter": "python",
   "pygments_lexer": "ipython3",
   "version": "3.11.4"
  }
 },
 "nbformat": 4,
 "nbformat_minor": 4
}
