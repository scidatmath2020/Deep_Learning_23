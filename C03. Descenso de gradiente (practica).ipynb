{
 "cells": [
  {
   "cell_type": "markdown",
   "metadata": {},
   "source": [
    "![imagenes](logo.png)"
   ]
  },
  {
   "cell_type": "code",
   "execution_count": null,
   "metadata": {},
   "outputs": [],
   "source": [
    "import numpy as np\n",
    "import pandas as pd\n",
    "\n",
    "import matplotlib.pyplot as plt\n",
    "%matplotlib inline\n",
    "plt.rcParams[\"figure.figsize\"] = (10, 10)\n",
    "\n",
    "import plotly.express as px"
   ]
  },
  {
   "cell_type": "markdown",
   "metadata": {},
   "source": [
    "# Batch Gradient Descent"
   ]
  },
  {
   "cell_type": "markdown",
   "metadata": {},
   "source": [
    "Trabajaremos un problema de [regresión lineal](https://github.com/scidatmath2020/Machine-Learning/blob/main/C01.2%20Regresi%C3%B3n%20lineal.ipynb)\n",
    "\n",
    "Básicamente, $\\beta_1$ y $\\beta_2$ son los coeficientes que queremos encontrar tales que se minimice la función de coste $$L(\\beta_1,\\beta_2)=\\frac{1}{2m}\\sum_{j=1}^m(\\beta_1x_{j1}+\\beta_2x_{j2}-y_j)^2$$ por lo que $$\\nabla(L(\\beta_1,\\beta_2))=\\frac{1}{m}\\sum_{j=1}^n(\\hat{y_j}-y_j)\\cdot x_j,$$ siendo $\\hat{y_j}=\\beta_1x_{j1}+\\beta_2x_{j2}$"
   ]
  },
  {
   "cell_type": "code",
   "execution_count": null,
   "metadata": {},
   "outputs": [],
   "source": [
    "Tabla = np.genfromtxt(\"C03_tabla.csv\",delimiter=\",\")\n",
    "coeficientes_objetivo = np.genfromtxt(\"C03_coeficientes_objetivo.csv\",delimiter=\",\")"
   ]
  },
  {
   "cell_type": "markdown",
   "metadata": {},
   "source": [
    "Lo bueno de usar este dataset es que sabemos exactamente cuales son los coeficientes $\\beta_i$ que definen el modelo lineal que genera la variable objetivo"
   ]
  },
  {
   "cell_type": "code",
   "execution_count": null,
   "metadata": {},
   "outputs": [],
   "source": [
    "Tabla"
   ]
  },
  {
   "cell_type": "code",
   "execution_count": null,
   "metadata": {},
   "outputs": [],
   "source": [
    "df = pd.DataFrame(Tabla)\n",
    "df.columns = [\"x1\",\"x2\",\"y\"]\n",
    "df"
   ]
  },
  {
   "cell_type": "code",
   "execution_count": null,
   "metadata": {},
   "outputs": [],
   "source": [
    "fig = px.scatter_3d(df, x='x1', y='x2', z='y')\n",
    "fig.show()"
   ]
  },
  {
   "cell_type": "code",
   "execution_count": null,
   "metadata": {},
   "outputs": [],
   "source": [
    "coeficientes_objetivo"
   ]
  },
  {
   "cell_type": "code",
   "execution_count": null,
   "metadata": {},
   "outputs": [],
   "source": [
    "X = Tabla[:,0:2]\n",
    "y = Tabla[:,2]"
   ]
  },
  {
   "cell_type": "code",
   "execution_count": null,
   "metadata": {},
   "outputs": [],
   "source": [
    "X"
   ]
  },
  {
   "cell_type": "markdown",
   "metadata": {},
   "source": [
    "Podemos obtener la variable objetivo mediante un producto escalar de los pesos con las variables independientes"
   ]
  },
  {
   "cell_type": "code",
   "execution_count": null,
   "metadata": {},
   "outputs": [],
   "source": [
    "def predecir_batch(coeficientes, X):\n",
    "    return coeficientes @ X.T"
   ]
  },
  {
   "cell_type": "code",
   "execution_count": null,
   "metadata": {},
   "outputs": [],
   "source": [
    "y_predicciones = predecir_batch(coeficientes_objetivo, X)\n",
    "y_predicciones[:10]"
   ]
  },
  {
   "cell_type": "markdown",
   "metadata": {},
   "source": [
    "Comprobamos que dichas predicciones son exactamente iguales que la variable objetivo"
   ]
  },
  {
   "cell_type": "code",
   "execution_count": null,
   "metadata": {},
   "outputs": [],
   "source": [
    "y_predicciones[:10]-y[:10]"
   ]
  },
  {
   "cell_type": "markdown",
   "metadata": {},
   "source": [
    "Necesitamos una función de error, en este caso usaremos el **Error Cuadrático Medio** dividido entre 2, para que su derivada no tenga el 2"
   ]
  },
  {
   "cell_type": "code",
   "execution_count": null,
   "metadata": {},
   "outputs": [],
   "source": [
    "def error_batch(y_pred, y_true):\n",
    "    m = y_pred.shape[0]\n",
    "    return (np.sum(y_pred - y_true)**2)/(2*m)"
   ]
  },
  {
   "cell_type": "markdown",
   "metadata": {},
   "source": [
    "También necesitamos la derivada de la función de error."
   ]
  },
  {
   "cell_type": "code",
   "execution_count": null,
   "metadata": {},
   "outputs": [],
   "source": [
    "def derivada_error_batch(y_pred, y_true, x):\n",
    "    m = y_pred.shape[0]\n",
    "    return np.sum((y_pred - y_true)*x/m)"
   ]
  },
  {
   "cell_type": "markdown",
   "metadata": {},
   "source": [
    "Para empezar el proceso generamos los coeficientes iniciales al azar"
   ]
  },
  {
   "cell_type": "code",
   "execution_count": null,
   "metadata": {},
   "outputs": [],
   "source": [
    "coeficientes = np.random.random((X.shape[1],))\n",
    "coeficientes"
   ]
  },
  {
   "cell_type": "code",
   "execution_count": null,
   "metadata": {},
   "outputs": [],
   "source": [
    "coeficientes_objetivo"
   ]
  },
  {
   "cell_type": "markdown",
   "metadata": {},
   "source": [
    "Ahora podemos predecir y calcular el error y la derivada del error"
   ]
  },
  {
   "cell_type": "code",
   "execution_count": null,
   "metadata": {},
   "outputs": [],
   "source": [
    "y_pred = predecir_batch(coeficientes, X)"
   ]
  },
  {
   "cell_type": "code",
   "execution_count": null,
   "metadata": {},
   "outputs": [],
   "source": [
    "error_batch(y_pred, y)"
   ]
  },
  {
   "cell_type": "code",
   "execution_count": null,
   "metadata": {},
   "outputs": [],
   "source": [
    "derivada_error_batch(y_pred, y, X[:,0])"
   ]
  },
  {
   "cell_type": "markdown",
   "metadata": {},
   "source": [
    "ya tenemos todo para implementar el descenso de gradiente batch"
   ]
  },
  {
   "cell_type": "code",
   "execution_count": null,
   "metadata": {},
   "outputs": [],
   "source": [
    "def descenso_gradiente_batch(coeficientes, X, y):\n",
    "    y_predicciones = predecir_batch(coeficientes, X)\n",
    "    for i in range(coeficientes.shape[0]):\n",
    "        coeficientes[i] = coeficientes[i]- STEP_SIZE * derivada_error_batch(y_predicciones, y, X[:,i])\n",
    "    error = error_batch(y_predicciones, y)\n",
    "    return coeficientes, error\n"
   ]
  },
  {
   "cell_type": "markdown",
   "metadata": {},
   "source": [
    "Simplemente definimos un número de iteraciones y un tamaño de paso (tambien llamado **ratio de aprendizaje o learning rate**), iteraremos y en cada iteración modificaremos los parámetros del modelo en función del tamaño de paso."
   ]
  },
  {
   "cell_type": "code",
   "execution_count": null,
   "metadata": {},
   "outputs": [],
   "source": [
    "coeficientes_iteraciones = []\n",
    "error_iteraciones = []\n",
    "\n",
    "N_ITERACIONES = 200\n",
    "STEP_SIZE = 0.02\n",
    "coeficientes = np.random.random((X.shape[1],))\n",
    "error = error_batch(coeficientes, X)\n",
    "for i in range(N_ITERACIONES):\n",
    "    coeficientes_iteraciones.append(coeficientes.copy())\n",
    "    error_iteraciones.append(error)\n",
    "    coeficientes, error = descenso_gradiente_batch(coeficientes, X, y)\n",
    "\n",
    "coeficientes_iteraciones = np.array(coeficientes_iteraciones)"
   ]
  },
  {
   "cell_type": "code",
   "execution_count": null,
   "metadata": {},
   "outputs": [],
   "source": [
    "coeficientes"
   ]
  },
  {
   "cell_type": "markdown",
   "metadata": {},
   "source": [
    "Vemos que los coeficientes obtenidos se parecen mucho a los coeficientes objetivo."
   ]
  },
  {
   "cell_type": "code",
   "execution_count": null,
   "metadata": {},
   "outputs": [],
   "source": [
    "coeficientes_objetivo"
   ]
  },
  {
   "cell_type": "code",
   "execution_count": null,
   "metadata": {},
   "outputs": [],
   "source": [
    "plt.plot(error_iteraciones)\n",
    "plt.title(\"Evolución del error con el número de iteraciones\");"
   ]
  },
  {
   "cell_type": "code",
   "execution_count": null,
   "metadata": {},
   "outputs": [],
   "source": [
    "plt.plot(coeficientes_iteraciones[:,0], color=\"red\")\n",
    "plt.axhline(coeficientes_objetivo[0], color=\"red\", linestyle=\"dashed\")\n",
    "\n",
    "plt.plot(coeficientes_iteraciones[:,1], color=\"blue\")\n",
    "plt.axhline(coeficientes_objetivo[1], color=\"blue\", linestyle=\"dashed\")\n",
    "\n",
    "plt.xlabel(\"Numero de iteraciones\")\n",
    "plt.ylabel(\"Valor del coeficiente\")\n",
    "\n",
    "plt.title(\"Evolución de coeficientes con el número de iteraciones\");"
   ]
  },
  {
   "cell_type": "markdown",
   "metadata": {},
   "source": [
    "# Descenso de gradiente estocástico (SGD)"
   ]
  },
  {
   "cell_type": "code",
   "execution_count": null,
   "metadata": {},
   "outputs": [],
   "source": [
    "def predecir_observacion(coeficientes, x):\n",
    "    return coeficientes @ x.T"
   ]
  },
  {
   "cell_type": "code",
   "execution_count": null,
   "metadata": {},
   "outputs": [],
   "source": [
    "X[0]"
   ]
  },
  {
   "cell_type": "code",
   "execution_count": null,
   "metadata": {},
   "outputs": [],
   "source": [
    "predecir_observacion(coeficientes, X[0])"
   ]
  },
  {
   "cell_type": "code",
   "execution_count": null,
   "metadata": {},
   "outputs": [],
   "source": [
    "y[0]"
   ]
  },
  {
   "cell_type": "code",
   "execution_count": null,
   "metadata": {},
   "outputs": [],
   "source": [
    "def derivada_error_observacion(y_pred, y_true, x):\n",
    "    return (y_pred - y_true) * x"
   ]
  },
  {
   "cell_type": "code",
   "execution_count": null,
   "metadata": {},
   "outputs": [],
   "source": [
    "derivada_error_observacion(predecir_observacion(coeficientes, X[0]), y[0], X[0])"
   ]
  },
  {
   "cell_type": "markdown",
   "metadata": {},
   "source": [
    "la definición de la iteracion de sgd es similar a la de batch, simplemente usando el error de observación en vez de el error total"
   ]
  },
  {
   "cell_type": "code",
   "execution_count": null,
   "metadata": {},
   "outputs": [],
   "source": [
    "def descenso_gradiente_estocastico(coeficientes, x, y):\n",
    "    y_predicciones = predecir_observacion(coeficientes, x)\n",
    "    for i in range(coeficientes.shape[0]):\n",
    "        coeficientes[i] = coeficientes[i]- STEP_SIZE * derivada_error_observacion(y_predicciones, y, x[i])\n",
    "    return coeficientes"
   ]
  },
  {
   "cell_type": "markdown",
   "metadata": {},
   "source": [
    "Ahora hacemos solo una iteración (podriamos hacer más), pero la iteramos para cada observación individual."
   ]
  },
  {
   "cell_type": "code",
   "execution_count": null,
   "metadata": {},
   "outputs": [],
   "source": [
    "coeficientes_iteraciones = []\n",
    "error_iteraciones = []\n",
    "\n",
    "STEP_SIZE = 0.02\n",
    "coeficientes = np.random.random((X.shape[1],))\n",
    "error = error_batch(coeficientes, X)\n",
    "\n",
    "indice_aleatorio = np.random.permutation(X.shape[0])\n",
    "for i in indice_aleatorio:\n",
    "    error_iteraciones.append(error)\n",
    "    coeficientes_iteraciones.append(coeficientes.copy())\n",
    "    \n",
    "    x_iteracion = X[i]\n",
    "    y_iteracion = y[i]\n",
    "    coeficientes = descenso_gradiente_estocastico(coeficientes,\n",
    "                                                  x_iteracion,\n",
    "                                                  y_iteracion)\n",
    "    y_predicciones = predecir_batch(coeficientes, X)\n",
    "    error = error_batch(y_predicciones, y)\n",
    "    \n",
    "coeficientes_iteraciones = np.array(coeficientes_iteraciones)"
   ]
  },
  {
   "cell_type": "code",
   "execution_count": null,
   "metadata": {},
   "outputs": [],
   "source": [
    "coeficientes"
   ]
  },
  {
   "cell_type": "code",
   "execution_count": null,
   "metadata": {},
   "outputs": [],
   "source": [
    "coeficientes_objetivo"
   ]
  },
  {
   "cell_type": "code",
   "execution_count": null,
   "metadata": {},
   "outputs": [],
   "source": [
    "plt.plot(error_iteraciones)\n",
    "plt.title(\"Evolución del error con el número de iteraciones\");"
   ]
  },
  {
   "cell_type": "code",
   "execution_count": null,
   "metadata": {},
   "outputs": [],
   "source": [
    "plt.plot(coeficientes_iteraciones[:,0], color=\"red\")\n",
    "plt.axhline(coeficientes_objetivo[0], color=\"red\", linestyle=\"dashed\")\n",
    "\n",
    "plt.plot(coeficientes_iteraciones[:,1], color=\"blue\")\n",
    "plt.axhline(coeficientes_objetivo[1], color=\"blue\", linestyle=\"dashed\")\n",
    "\n",
    "plt.xlabel(\"Numero de observaciones\")\n",
    "plt.ylabel(\"Valor del coeficiente\")\n",
    "\n",
    "plt.title(\"Evolución de coeficientes en SGD con el número de observaciones iteradas\");"
   ]
  },
  {
   "cell_type": "markdown",
   "metadata": {
    "collapsed": true
   },
   "source": [
    "### SGD en scikit-learn\n",
    "\n",
    "Scikit-learn tiene estimadores para regresión y clasificación basados en SGD, [SGDRegressor](http://scikit-learn.org/stable/modules/generated/sklearn.linear_model.SGDRegressor.html#sklearn.linear_model.SGDRegressor) y [SGDClassifier](from sklearn.linear_model import SGDClassifier)\n",
    "\n",
    "Los parámetros más importantes para estos estimadores son:\n",
    "\n",
    "- **loss**: La función de pérdidas a utilizar\n",
    "- **learning_rate**: El tamaño de paso, también llamado learning rate (ratio de aprendizaje)\n",
    "- **max_iter**: Número de iteraciones (también llamadas épocas)"
   ]
  },
  {
   "cell_type": "code",
   "execution_count": null,
   "metadata": {},
   "outputs": [],
   "source": [
    "from sklearn.linear_model import SGDClassifier, SGDRegressor"
   ]
  },
  {
   "cell_type": "code",
   "execution_count": null,
   "metadata": {},
   "outputs": [],
   "source": [
    "estimador_sgd = SGDRegressor(max_iter=10)\n",
    "estimador_sgd.fit(X, y)"
   ]
  },
  {
   "cell_type": "code",
   "execution_count": null,
   "metadata": {},
   "outputs": [],
   "source": [
    "estimador_sgd.predict(X)[:10]"
   ]
  },
  {
   "cell_type": "markdown",
   "metadata": {},
   "source": [
    "Podemos ver los coeficientes que produce el estimador"
   ]
  },
  {
   "cell_type": "code",
   "execution_count": null,
   "metadata": {},
   "outputs": [],
   "source": [
    "estimador_sgd.coef_"
   ]
  },
  {
   "cell_type": "markdown",
   "metadata": {},
   "source": [
    "Y vemos que son muy similares a los coeficientes objetivo"
   ]
  },
  {
   "cell_type": "code",
   "execution_count": null,
   "metadata": {},
   "outputs": [],
   "source": [
    "coeficientes_objetivo"
   ]
  }
 ],
 "metadata": {
  "kernelspec": {
   "display_name": "Python 3 (ipykernel)",
   "language": "python",
   "name": "python3"
  },
  "language_info": {
   "codemirror_mode": {
    "name": "ipython",
    "version": 3
   },
   "file_extension": ".py",
   "mimetype": "text/x-python",
   "name": "python",
   "nbconvert_exporter": "python",
   "pygments_lexer": "ipython3",
   "version": "3.11.4"
  }
 },
 "nbformat": 4,
 "nbformat_minor": 2
}
